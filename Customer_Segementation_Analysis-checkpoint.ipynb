{
 "cells": [
  {
   "cell_type": "markdown",
   "id": "9cf321b9",
   "metadata": {},
   "source": [
    "# Customer Segmentation Analysis"
   ]
  },
  {
   "cell_type": "code",
   "execution_count": 1,
   "id": "15541590",
   "metadata": {},
   "outputs": [],
   "source": [
    "# Import Libraries\n",
    "\n",
    "import pandas as pd\n",
    "import numpy as np\n",
    "import seaborn as sns\n",
    "import matplotlib.pyplot as plt\n",
    "from scipy import stats\n",
    "from sklearn.preprocessing import StandardScaler\n",
    "import matplotlib.pyplot as plt\n",
    "from sklearn.datasets import make_blobs\n",
    "from sklearn.cluster import KMeans\n",
    "from sklearn.metrics import silhouette_score\n",
    "from sklearn.decomposition import PCA\n",
    "from mpl_toolkits.mplot3d import Axes3D"
   ]
  },
  {
   "cell_type": "code",
   "execution_count": 4,
   "id": "3aa0e561",
   "metadata": {},
   "outputs": [
    {
     "name": "stdout",
     "output_type": "stream",
     "text": [
      "  InvoiceNo StockCode                          Description  Quantity  \\\n",
      "0    536365    85123A   WHITE HANGING HEART T-LIGHT HOLDER         6   \n",
      "1    536365     71053                  WHITE METAL LANTERN         6   \n",
      "2    536365    84406B       CREAM CUPID HEARTS COAT HANGER         8   \n",
      "3    536365    84029G  KNITTED UNION FLAG HOT WATER BOTTLE         6   \n",
      "4    536365    84029E       RED WOOLLY HOTTIE WHITE HEART.         6   \n",
      "\n",
      "      InvoiceDate  UnitPrice  CustomerID         Country  \n",
      "0  12/1/2010 8:26       2.55     17850.0  United Kingdom  \n",
      "1  12/1/2010 8:26       3.39     17850.0  United Kingdom  \n",
      "2  12/1/2010 8:26       2.75     17850.0  United Kingdom  \n",
      "3  12/1/2010 8:26       3.39     17850.0  United Kingdom  \n",
      "4  12/1/2010 8:26       3.39     17850.0  United Kingdom  \n"
     ]
    }
   ],
   "source": [
    "#Import E-Commerce Sales Dataset From Kaggle\n",
    "\n",
    "df = pd.read_csv('data.csv', encoding='unicode_escape')\n",
    "print(df.head())"
   ]
  },
  {
   "cell_type": "code",
   "execution_count": 16,
   "id": "98c1bcfb",
   "metadata": {},
   "outputs": [
    {
     "name": "stdout",
     "output_type": "stream",
     "text": [
      "<class 'pandas.core.frame.DataFrame'>\n",
      "RangeIndex: 541909 entries, 0 to 541908\n",
      "Data columns (total 9 columns):\n",
      " #   Column       Non-Null Count   Dtype         \n",
      "---  ------       --------------   -----         \n",
      " 0   InvoiceNo    541909 non-null  object        \n",
      " 1   StockCode    541909 non-null  object        \n",
      " 2   Description  540455 non-null  object        \n",
      " 3   Quantity     541909 non-null  int64         \n",
      " 4   InvoiceDate  541909 non-null  object        \n",
      " 5   UnitPrice    541909 non-null  float64       \n",
      " 6   CustomerID   406829 non-null  float64       \n",
      " 7   Country      541909 non-null  object        \n",
      " 8   Date         541909 non-null  datetime64[ns]\n",
      "dtypes: datetime64[ns](1), float64(2), int64(1), object(5)\n",
      "memory usage: 37.2+ MB\n"
     ]
    }
   ],
   "source": [
    "# Explore Dataset\n",
    "\n",
    "df.info()"
   ]
  },
  {
   "cell_type": "code",
   "execution_count": 17,
   "id": "2f80660a",
   "metadata": {},
   "outputs": [
    {
     "data": {
      "text/plain": [
       "InvoiceNo           0\n",
       "StockCode           0\n",
       "Description      1454\n",
       "Quantity            0\n",
       "InvoiceDate         0\n",
       "UnitPrice           0\n",
       "CustomerID     135080\n",
       "Country             0\n",
       "Date                0\n",
       "dtype: int64"
      ]
     },
     "execution_count": 17,
     "metadata": {},
     "output_type": "execute_result"
    }
   ],
   "source": [
    "# Check for Null Values\n",
    "df.isna().sum()"
   ]
  },
  {
   "cell_type": "code",
   "execution_count": 18,
   "id": "eb89fd1d",
   "metadata": {},
   "outputs": [
    {
     "data": {
      "text/plain": [
       "(406829, 9)"
      ]
     },
     "execution_count": 18,
     "metadata": {},
     "output_type": "execute_result"
    }
   ],
   "source": [
    "# Drop Null Values\n",
    "\n",
    "df.dropna(subset=['CustomerID'], axis=0, inplace=True)\n",
    "df.shape"
   ]
  },
  {
   "cell_type": "code",
   "execution_count": 30,
   "id": "59d8d760",
   "metadata": {},
   "outputs": [
    {
     "name": "stderr",
     "output_type": "stream",
     "text": [
      "C:\\Users\\simon\\AppData\\Local\\Temp\\ipykernel_24868\\982486988.py:14: SettingWithCopyWarning: \n",
      "A value is trying to be set on a copy of a slice from a DataFrame.\n",
      "Try using .loc[row_indexer,col_indexer] = value instead\n",
      "\n",
      "See the caveats in the documentation: https://pandas.pydata.org/pandas-docs/stable/user_guide/indexing.html#returning-a-view-versus-a-copy\n",
      "  df_recency['recency'] = (df_recency['Date'] - df_recency['Date'].min()).dt.days\n"
     ]
    },
    {
     "data": {
      "text/html": [
       "<div>\n",
       "<style scoped>\n",
       "    .dataframe tbody tr th:only-of-type {\n",
       "        vertical-align: middle;\n",
       "    }\n",
       "\n",
       "    .dataframe tbody tr th {\n",
       "        vertical-align: top;\n",
       "    }\n",
       "\n",
       "    .dataframe thead th {\n",
       "        text-align: right;\n",
       "    }\n",
       "</style>\n",
       "<table border=\"1\" class=\"dataframe\">\n",
       "  <thead>\n",
       "    <tr style=\"text-align: right;\">\n",
       "      <th></th>\n",
       "      <th>InvoiceNo</th>\n",
       "      <th>StockCode</th>\n",
       "      <th>Description</th>\n",
       "      <th>Quantity</th>\n",
       "      <th>InvoiceDate</th>\n",
       "      <th>UnitPrice</th>\n",
       "      <th>CustomerID</th>\n",
       "      <th>Country</th>\n",
       "      <th>Date</th>\n",
       "      <th>MostRecentPurchase</th>\n",
       "      <th>recency</th>\n",
       "    </tr>\n",
       "  </thead>\n",
       "  <tbody>\n",
       "    <tr>\n",
       "      <th>0</th>\n",
       "      <td>536365</td>\n",
       "      <td>85123A</td>\n",
       "      <td>WHITE HANGING HEART T-LIGHT HOLDER</td>\n",
       "      <td>6</td>\n",
       "      <td>12/1/2010 8:26</td>\n",
       "      <td>2.55</td>\n",
       "      <td>17850.0</td>\n",
       "      <td>United Kingdom</td>\n",
       "      <td>2010-12-01 08:26:00</td>\n",
       "      <td>1</td>\n",
       "      <td>0</td>\n",
       "    </tr>\n",
       "    <tr>\n",
       "      <th>1</th>\n",
       "      <td>536365</td>\n",
       "      <td>71053</td>\n",
       "      <td>WHITE METAL LANTERN</td>\n",
       "      <td>6</td>\n",
       "      <td>12/1/2010 8:26</td>\n",
       "      <td>3.39</td>\n",
       "      <td>17850.0</td>\n",
       "      <td>United Kingdom</td>\n",
       "      <td>2010-12-01 08:26:00</td>\n",
       "      <td>1</td>\n",
       "      <td>0</td>\n",
       "    </tr>\n",
       "    <tr>\n",
       "      <th>2</th>\n",
       "      <td>536365</td>\n",
       "      <td>84406B</td>\n",
       "      <td>CREAM CUPID HEARTS COAT HANGER</td>\n",
       "      <td>8</td>\n",
       "      <td>12/1/2010 8:26</td>\n",
       "      <td>2.75</td>\n",
       "      <td>17850.0</td>\n",
       "      <td>United Kingdom</td>\n",
       "      <td>2010-12-01 08:26:00</td>\n",
       "      <td>1</td>\n",
       "      <td>0</td>\n",
       "    </tr>\n",
       "    <tr>\n",
       "      <th>3</th>\n",
       "      <td>536365</td>\n",
       "      <td>84029G</td>\n",
       "      <td>KNITTED UNION FLAG HOT WATER BOTTLE</td>\n",
       "      <td>6</td>\n",
       "      <td>12/1/2010 8:26</td>\n",
       "      <td>3.39</td>\n",
       "      <td>17850.0</td>\n",
       "      <td>United Kingdom</td>\n",
       "      <td>2010-12-01 08:26:00</td>\n",
       "      <td>1</td>\n",
       "      <td>0</td>\n",
       "    </tr>\n",
       "    <tr>\n",
       "      <th>4</th>\n",
       "      <td>536365</td>\n",
       "      <td>84029E</td>\n",
       "      <td>RED WOOLLY HOTTIE WHITE HEART.</td>\n",
       "      <td>6</td>\n",
       "      <td>12/1/2010 8:26</td>\n",
       "      <td>3.39</td>\n",
       "      <td>17850.0</td>\n",
       "      <td>United Kingdom</td>\n",
       "      <td>2010-12-01 08:26:00</td>\n",
       "      <td>1</td>\n",
       "      <td>0</td>\n",
       "    </tr>\n",
       "  </tbody>\n",
       "</table>\n",
       "</div>"
      ],
      "text/plain": [
       "  InvoiceNo StockCode                          Description  Quantity  \\\n",
       "0    536365    85123A   WHITE HANGING HEART T-LIGHT HOLDER         6   \n",
       "1    536365     71053                  WHITE METAL LANTERN         6   \n",
       "2    536365    84406B       CREAM CUPID HEARTS COAT HANGER         8   \n",
       "3    536365    84029G  KNITTED UNION FLAG HOT WATER BOTTLE         6   \n",
       "4    536365    84029E       RED WOOLLY HOTTIE WHITE HEART.         6   \n",
       "\n",
       "      InvoiceDate  UnitPrice  CustomerID         Country                Date  \\\n",
       "0  12/1/2010 8:26       2.55     17850.0  United Kingdom 2010-12-01 08:26:00   \n",
       "1  12/1/2010 8:26       3.39     17850.0  United Kingdom 2010-12-01 08:26:00   \n",
       "2  12/1/2010 8:26       2.75     17850.0  United Kingdom 2010-12-01 08:26:00   \n",
       "3  12/1/2010 8:26       3.39     17850.0  United Kingdom 2010-12-01 08:26:00   \n",
       "4  12/1/2010 8:26       3.39     17850.0  United Kingdom 2010-12-01 08:26:00   \n",
       "\n",
       "   MostRecentPurchase  recency  \n",
       "0                   1        0  \n",
       "1                   1        0  \n",
       "2                   1        0  \n",
       "3                   1        0  \n",
       "4                   1        0  "
      ]
     },
     "execution_count": 30,
     "metadata": {},
     "output_type": "execute_result"
    }
   ],
   "source": [
    "# Create Customer RFM Profile\n",
    "# Part 1- Recency\n",
    "\n",
    "# Convert Column to Date Format\n",
    "df['Date'] = pd.to_datetime(df['InvoiceDate'])\n",
    "\n",
    "# Keep Only Most Recent Date of Purchase\n",
    "df['MostRecentPurchase'] = df.sort_values(['CustomerID', 'Date']).groupby(['CustomerID'])['Date'].rank(method='min').astype(int)\n",
    "\n",
    "# Filter Rows Where 'MostRecentPurchase' is Equal to 1 Using .loc\n",
    "df_recency = df.loc[df['MostRecentPurchase'] == 1]\n",
    "\n",
    "# Calculate Recency Score\n",
    "df_recency['recency'] = (df_recency['Date'] - df_recency['Date'].min()).dt.days\n",
    "\n",
    "df_recency.head()"
   ]
  },
  {
   "cell_type": "code",
   "execution_count": 36,
   "id": "f9fcc0f0",
   "metadata": {},
   "outputs": [
    {
     "data": {
      "text/html": [
       "<div>\n",
       "<style scoped>\n",
       "    .dataframe tbody tr th:only-of-type {\n",
       "        vertical-align: middle;\n",
       "    }\n",
       "\n",
       "    .dataframe tbody tr th {\n",
       "        vertical-align: top;\n",
       "    }\n",
       "\n",
       "    .dataframe thead th {\n",
       "        text-align: right;\n",
       "    }\n",
       "</style>\n",
       "<table border=\"1\" class=\"dataframe\">\n",
       "  <thead>\n",
       "    <tr style=\"text-align: right;\">\n",
       "      <th></th>\n",
       "      <th>CustomerID</th>\n",
       "      <th>frequency</th>\n",
       "    </tr>\n",
       "  </thead>\n",
       "  <tbody>\n",
       "    <tr>\n",
       "      <th>0</th>\n",
       "      <td>12346.0</td>\n",
       "      <td>1</td>\n",
       "    </tr>\n",
       "    <tr>\n",
       "      <th>1</th>\n",
       "      <td>12347.0</td>\n",
       "      <td>31</td>\n",
       "    </tr>\n",
       "    <tr>\n",
       "      <th>2</th>\n",
       "      <td>12348.0</td>\n",
       "      <td>17</td>\n",
       "    </tr>\n",
       "    <tr>\n",
       "      <th>3</th>\n",
       "      <td>12349.0</td>\n",
       "      <td>73</td>\n",
       "    </tr>\n",
       "    <tr>\n",
       "      <th>4</th>\n",
       "      <td>12350.0</td>\n",
       "      <td>17</td>\n",
       "    </tr>\n",
       "  </tbody>\n",
       "</table>\n",
       "</div>"
      ],
      "text/plain": [
       "   CustomerID  frequency\n",
       "0     12346.0          1\n",
       "1     12347.0         31\n",
       "2     12348.0         17\n",
       "3     12349.0         73\n",
       "4     12350.0         17"
      ]
     },
     "execution_count": 36,
     "metadata": {},
     "output_type": "execute_result"
    }
   ],
   "source": [
    "# Create Customer RFM Profile\n",
    "# Part 2- Frequency\n",
    "\n",
    "# Create New Frequency Dataframe\n",
    "\n",
    "frequency = df_recency.groupby('CustomerID')['Date'].count()\n",
    "df_frequency = pd.DataFrame(frequency).reset_index()\n",
    "df_frequency.columns = ['CustomerID', 'frequency']\n",
    "\n",
    "df_frequency.head()"
   ]
  },
  {
   "cell_type": "code",
   "execution_count": 37,
   "id": "01192827",
   "metadata": {},
   "outputs": [
    {
     "data": {
      "text/html": [
       "<div>\n",
       "<style scoped>\n",
       "    .dataframe tbody tr th:only-of-type {\n",
       "        vertical-align: middle;\n",
       "    }\n",
       "\n",
       "    .dataframe tbody tr th {\n",
       "        vertical-align: top;\n",
       "    }\n",
       "\n",
       "    .dataframe thead th {\n",
       "        text-align: right;\n",
       "    }\n",
       "</style>\n",
       "<table border=\"1\" class=\"dataframe\">\n",
       "  <thead>\n",
       "    <tr style=\"text-align: right;\">\n",
       "      <th></th>\n",
       "      <th>CustomerID</th>\n",
       "      <th>frequency</th>\n",
       "      <th>InvoiceNo</th>\n",
       "      <th>StockCode</th>\n",
       "      <th>Description</th>\n",
       "      <th>Quantity</th>\n",
       "      <th>InvoiceDate</th>\n",
       "      <th>UnitPrice</th>\n",
       "      <th>Country</th>\n",
       "      <th>Date</th>\n",
       "      <th>MostRecentPurchase</th>\n",
       "      <th>recency</th>\n",
       "    </tr>\n",
       "  </thead>\n",
       "  <tbody>\n",
       "    <tr>\n",
       "      <th>0</th>\n",
       "      <td>12346.0</td>\n",
       "      <td>1</td>\n",
       "      <td>541431</td>\n",
       "      <td>23166</td>\n",
       "      <td>MEDIUM CERAMIC TOP STORAGE JAR</td>\n",
       "      <td>74215</td>\n",
       "      <td>1/18/2011 10:01</td>\n",
       "      <td>1.04</td>\n",
       "      <td>United Kingdom</td>\n",
       "      <td>2011-01-18 10:01:00</td>\n",
       "      <td>1</td>\n",
       "      <td>48</td>\n",
       "    </tr>\n",
       "    <tr>\n",
       "      <th>1</th>\n",
       "      <td>12347.0</td>\n",
       "      <td>31</td>\n",
       "      <td>537626</td>\n",
       "      <td>85116</td>\n",
       "      <td>BLACK CANDELABRA T-LIGHT HOLDER</td>\n",
       "      <td>12</td>\n",
       "      <td>12/7/2010 14:57</td>\n",
       "      <td>2.10</td>\n",
       "      <td>Iceland</td>\n",
       "      <td>2010-12-07 14:57:00</td>\n",
       "      <td>1</td>\n",
       "      <td>6</td>\n",
       "    </tr>\n",
       "    <tr>\n",
       "      <th>2</th>\n",
       "      <td>12347.0</td>\n",
       "      <td>31</td>\n",
       "      <td>537626</td>\n",
       "      <td>22375</td>\n",
       "      <td>AIRLINE BAG VINTAGE JET SET BROWN</td>\n",
       "      <td>4</td>\n",
       "      <td>12/7/2010 14:57</td>\n",
       "      <td>4.25</td>\n",
       "      <td>Iceland</td>\n",
       "      <td>2010-12-07 14:57:00</td>\n",
       "      <td>1</td>\n",
       "      <td>6</td>\n",
       "    </tr>\n",
       "    <tr>\n",
       "      <th>3</th>\n",
       "      <td>12347.0</td>\n",
       "      <td>31</td>\n",
       "      <td>537626</td>\n",
       "      <td>71477</td>\n",
       "      <td>COLOUR GLASS. STAR T-LIGHT HOLDER</td>\n",
       "      <td>12</td>\n",
       "      <td>12/7/2010 14:57</td>\n",
       "      <td>3.25</td>\n",
       "      <td>Iceland</td>\n",
       "      <td>2010-12-07 14:57:00</td>\n",
       "      <td>1</td>\n",
       "      <td>6</td>\n",
       "    </tr>\n",
       "    <tr>\n",
       "      <th>4</th>\n",
       "      <td>12347.0</td>\n",
       "      <td>31</td>\n",
       "      <td>537626</td>\n",
       "      <td>22492</td>\n",
       "      <td>MINI PAINT SET VINTAGE</td>\n",
       "      <td>36</td>\n",
       "      <td>12/7/2010 14:57</td>\n",
       "      <td>0.65</td>\n",
       "      <td>Iceland</td>\n",
       "      <td>2010-12-07 14:57:00</td>\n",
       "      <td>1</td>\n",
       "      <td>6</td>\n",
       "    </tr>\n",
       "  </tbody>\n",
       "</table>\n",
       "</div>"
      ],
      "text/plain": [
       "   CustomerID  frequency InvoiceNo StockCode  \\\n",
       "0     12346.0          1    541431     23166   \n",
       "1     12347.0         31    537626     85116   \n",
       "2     12347.0         31    537626     22375   \n",
       "3     12347.0         31    537626     71477   \n",
       "4     12347.0         31    537626     22492   \n",
       "\n",
       "                         Description  Quantity      InvoiceDate  UnitPrice  \\\n",
       "0     MEDIUM CERAMIC TOP STORAGE JAR     74215  1/18/2011 10:01       1.04   \n",
       "1    BLACK CANDELABRA T-LIGHT HOLDER        12  12/7/2010 14:57       2.10   \n",
       "2  AIRLINE BAG VINTAGE JET SET BROWN         4  12/7/2010 14:57       4.25   \n",
       "3  COLOUR GLASS. STAR T-LIGHT HOLDER        12  12/7/2010 14:57       3.25   \n",
       "4            MINI PAINT SET VINTAGE         36  12/7/2010 14:57       0.65   \n",
       "\n",
       "          Country                Date  MostRecentPurchase  recency  \n",
       "0  United Kingdom 2011-01-18 10:01:00                   1       48  \n",
       "1         Iceland 2010-12-07 14:57:00                   1        6  \n",
       "2         Iceland 2010-12-07 14:57:00                   1        6  \n",
       "3         Iceland 2010-12-07 14:57:00                   1        6  \n",
       "4         Iceland 2010-12-07 14:57:00                   1        6  "
      ]
     },
     "execution_count": 37,
     "metadata": {},
     "output_type": "execute_result"
    }
   ],
   "source": [
    "# Merge Two Recency and Frequency Dataframes\n",
    "\n",
    "recency_frequency = df_frequency.merge(df_recency,on='CustomerID')\n",
    "\n",
    "recency_frequency.head()"
   ]
  },
  {
   "cell_type": "code",
   "execution_count": 39,
   "id": "521a23b7",
   "metadata": {},
   "outputs": [
    {
     "data": {
      "text/html": [
       "<div>\n",
       "<style scoped>\n",
       "    .dataframe tbody tr th:only-of-type {\n",
       "        vertical-align: middle;\n",
       "    }\n",
       "\n",
       "    .dataframe tbody tr th {\n",
       "        vertical-align: top;\n",
       "    }\n",
       "\n",
       "    .dataframe thead th {\n",
       "        text-align: right;\n",
       "    }\n",
       "</style>\n",
       "<table border=\"1\" class=\"dataframe\">\n",
       "  <thead>\n",
       "    <tr style=\"text-align: right;\">\n",
       "      <th></th>\n",
       "      <th>CustomerID</th>\n",
       "      <th>MonetaryTotal</th>\n",
       "    </tr>\n",
       "  </thead>\n",
       "  <tbody>\n",
       "    <tr>\n",
       "      <th>0</th>\n",
       "      <td>12346.0</td>\n",
       "      <td>6.24</td>\n",
       "    </tr>\n",
       "    <tr>\n",
       "      <th>1</th>\n",
       "      <td>12347.0</td>\n",
       "      <td>1040.57</td>\n",
       "    </tr>\n",
       "    <tr>\n",
       "      <th>2</th>\n",
       "      <td>12348.0</td>\n",
       "      <td>476.76</td>\n",
       "    </tr>\n",
       "    <tr>\n",
       "      <th>3</th>\n",
       "      <td>12349.0</td>\n",
       "      <td>3600.10</td>\n",
       "    </tr>\n",
       "    <tr>\n",
       "      <th>4</th>\n",
       "      <td>12350.0</td>\n",
       "      <td>207.80</td>\n",
       "    </tr>\n",
       "  </tbody>\n",
       "</table>\n",
       "</div>"
      ],
      "text/plain": [
       "   CustomerID  MonetaryTotal\n",
       "0     12346.0           6.24\n",
       "1     12347.0        1040.57\n",
       "2     12348.0         476.76\n",
       "3     12349.0        3600.10\n",
       "4     12350.0         207.80"
      ]
     },
     "execution_count": 39,
     "metadata": {},
     "output_type": "execute_result"
    }
   ],
   "source": [
    "# Create Customer RFM Profile\n",
    "# Part 3- Monetary\n",
    "\n",
    "# Create New Monetary Dataframe\n",
    "\n",
    "recency_frequency['Total'] = recency_frequency['UnitPrice'] * df['Quantity'] \n",
    "monetary = recency_frequency.groupby('CustomerID')['Total'].sum()\n",
    "monetary = pd.DataFrame(monetary).reset_index()\n",
    "monetary.columns = ['CustomerID', 'MonetaryTotal']\n",
    "\n",
    "monetary.head()"
   ]
  },
  {
   "cell_type": "code",
   "execution_count": 40,
   "id": "edaa1648",
   "metadata": {},
   "outputs": [
    {
     "data": {
      "text/html": [
       "<div>\n",
       "<style scoped>\n",
       "    .dataframe tbody tr th:only-of-type {\n",
       "        vertical-align: middle;\n",
       "    }\n",
       "\n",
       "    .dataframe tbody tr th {\n",
       "        vertical-align: top;\n",
       "    }\n",
       "\n",
       "    .dataframe thead th {\n",
       "        text-align: right;\n",
       "    }\n",
       "</style>\n",
       "<table border=\"1\" class=\"dataframe\">\n",
       "  <thead>\n",
       "    <tr style=\"text-align: right;\">\n",
       "      <th></th>\n",
       "      <th>CustomerID</th>\n",
       "      <th>MonetaryTotal</th>\n",
       "      <th>frequency</th>\n",
       "      <th>InvoiceNo</th>\n",
       "      <th>StockCode</th>\n",
       "      <th>Description</th>\n",
       "      <th>Quantity</th>\n",
       "      <th>InvoiceDate</th>\n",
       "      <th>UnitPrice</th>\n",
       "      <th>Country</th>\n",
       "      <th>Date</th>\n",
       "      <th>MostRecentPurchase</th>\n",
       "      <th>recency</th>\n",
       "      <th>Total</th>\n",
       "    </tr>\n",
       "  </thead>\n",
       "  <tbody>\n",
       "    <tr>\n",
       "      <th>0</th>\n",
       "      <td>12346.0</td>\n",
       "      <td>6.24</td>\n",
       "      <td>1</td>\n",
       "      <td>541431</td>\n",
       "      <td>23166</td>\n",
       "      <td>MEDIUM CERAMIC TOP STORAGE JAR</td>\n",
       "      <td>74215</td>\n",
       "      <td>1/18/2011 10:01</td>\n",
       "      <td>1.04</td>\n",
       "      <td>United Kingdom</td>\n",
       "      <td>2011-01-18 10:01:00</td>\n",
       "      <td>1</td>\n",
       "      <td>48</td>\n",
       "      <td>6.24</td>\n",
       "    </tr>\n",
       "    <tr>\n",
       "      <th>1</th>\n",
       "      <td>12347.0</td>\n",
       "      <td>1040.57</td>\n",
       "      <td>31</td>\n",
       "      <td>537626</td>\n",
       "      <td>85116</td>\n",
       "      <td>BLACK CANDELABRA T-LIGHT HOLDER</td>\n",
       "      <td>12</td>\n",
       "      <td>12/7/2010 14:57</td>\n",
       "      <td>2.10</td>\n",
       "      <td>Iceland</td>\n",
       "      <td>2010-12-07 14:57:00</td>\n",
       "      <td>1</td>\n",
       "      <td>6</td>\n",
       "      <td>12.60</td>\n",
       "    </tr>\n",
       "    <tr>\n",
       "      <th>2</th>\n",
       "      <td>12347.0</td>\n",
       "      <td>1040.57</td>\n",
       "      <td>31</td>\n",
       "      <td>537626</td>\n",
       "      <td>22375</td>\n",
       "      <td>AIRLINE BAG VINTAGE JET SET BROWN</td>\n",
       "      <td>4</td>\n",
       "      <td>12/7/2010 14:57</td>\n",
       "      <td>4.25</td>\n",
       "      <td>Iceland</td>\n",
       "      <td>2010-12-07 14:57:00</td>\n",
       "      <td>1</td>\n",
       "      <td>6</td>\n",
       "      <td>34.00</td>\n",
       "    </tr>\n",
       "    <tr>\n",
       "      <th>3</th>\n",
       "      <td>12347.0</td>\n",
       "      <td>1040.57</td>\n",
       "      <td>31</td>\n",
       "      <td>537626</td>\n",
       "      <td>71477</td>\n",
       "      <td>COLOUR GLASS. STAR T-LIGHT HOLDER</td>\n",
       "      <td>12</td>\n",
       "      <td>12/7/2010 14:57</td>\n",
       "      <td>3.25</td>\n",
       "      <td>Iceland</td>\n",
       "      <td>2010-12-07 14:57:00</td>\n",
       "      <td>1</td>\n",
       "      <td>6</td>\n",
       "      <td>19.50</td>\n",
       "    </tr>\n",
       "    <tr>\n",
       "      <th>4</th>\n",
       "      <td>12347.0</td>\n",
       "      <td>1040.57</td>\n",
       "      <td>31</td>\n",
       "      <td>537626</td>\n",
       "      <td>22492</td>\n",
       "      <td>MINI PAINT SET VINTAGE</td>\n",
       "      <td>36</td>\n",
       "      <td>12/7/2010 14:57</td>\n",
       "      <td>0.65</td>\n",
       "      <td>Iceland</td>\n",
       "      <td>2010-12-07 14:57:00</td>\n",
       "      <td>1</td>\n",
       "      <td>6</td>\n",
       "      <td>3.90</td>\n",
       "    </tr>\n",
       "  </tbody>\n",
       "</table>\n",
       "</div>"
      ],
      "text/plain": [
       "   CustomerID  MonetaryTotal  frequency InvoiceNo StockCode  \\\n",
       "0     12346.0           6.24          1    541431     23166   \n",
       "1     12347.0        1040.57         31    537626     85116   \n",
       "2     12347.0        1040.57         31    537626     22375   \n",
       "3     12347.0        1040.57         31    537626     71477   \n",
       "4     12347.0        1040.57         31    537626     22492   \n",
       "\n",
       "                         Description  Quantity      InvoiceDate  UnitPrice  \\\n",
       "0     MEDIUM CERAMIC TOP STORAGE JAR     74215  1/18/2011 10:01       1.04   \n",
       "1    BLACK CANDELABRA T-LIGHT HOLDER        12  12/7/2010 14:57       2.10   \n",
       "2  AIRLINE BAG VINTAGE JET SET BROWN         4  12/7/2010 14:57       4.25   \n",
       "3  COLOUR GLASS. STAR T-LIGHT HOLDER        12  12/7/2010 14:57       3.25   \n",
       "4            MINI PAINT SET VINTAGE         36  12/7/2010 14:57       0.65   \n",
       "\n",
       "          Country                Date  MostRecentPurchase  recency  Total  \n",
       "0  United Kingdom 2011-01-18 10:01:00                   1       48   6.24  \n",
       "1         Iceland 2010-12-07 14:57:00                   1        6  12.60  \n",
       "2         Iceland 2010-12-07 14:57:00                   1        6  34.00  \n",
       "3         Iceland 2010-12-07 14:57:00                   1        6  19.50  \n",
       "4         Iceland 2010-12-07 14:57:00                   1        6   3.90  "
      ]
     },
     "execution_count": 40,
     "metadata": {},
     "output_type": "execute_result"
    }
   ],
   "source": [
    "# Merge recency_frequency With monetary\n",
    "\n",
    "rfm = monetary.merge(recency_frequency, on='CustomerID')\n",
    "\n",
    "rfm.head()"
   ]
  },
  {
   "cell_type": "code",
   "execution_count": 42,
   "id": "9f370fa9",
   "metadata": {},
   "outputs": [
    {
     "data": {
      "text/html": [
       "<div>\n",
       "<style scoped>\n",
       "    .dataframe tbody tr th:only-of-type {\n",
       "        vertical-align: middle;\n",
       "    }\n",
       "\n",
       "    .dataframe tbody tr th {\n",
       "        vertical-align: top;\n",
       "    }\n",
       "\n",
       "    .dataframe thead th {\n",
       "        text-align: right;\n",
       "    }\n",
       "</style>\n",
       "<table border=\"1\" class=\"dataframe\">\n",
       "  <thead>\n",
       "    <tr style=\"text-align: right;\">\n",
       "      <th></th>\n",
       "      <th>CustomerID</th>\n",
       "      <th>recency</th>\n",
       "      <th>frequency</th>\n",
       "      <th>MonetaryTotal</th>\n",
       "    </tr>\n",
       "  </thead>\n",
       "  <tbody>\n",
       "    <tr>\n",
       "      <th>0</th>\n",
       "      <td>12346.0</td>\n",
       "      <td>48</td>\n",
       "      <td>1</td>\n",
       "      <td>6.24</td>\n",
       "    </tr>\n",
       "    <tr>\n",
       "      <th>1</th>\n",
       "      <td>12347.0</td>\n",
       "      <td>6</td>\n",
       "      <td>31</td>\n",
       "      <td>1040.57</td>\n",
       "    </tr>\n",
       "    <tr>\n",
       "      <th>2</th>\n",
       "      <td>12347.0</td>\n",
       "      <td>6</td>\n",
       "      <td>31</td>\n",
       "      <td>1040.57</td>\n",
       "    </tr>\n",
       "    <tr>\n",
       "      <th>3</th>\n",
       "      <td>12347.0</td>\n",
       "      <td>6</td>\n",
       "      <td>31</td>\n",
       "      <td>1040.57</td>\n",
       "    </tr>\n",
       "    <tr>\n",
       "      <th>4</th>\n",
       "      <td>12347.0</td>\n",
       "      <td>6</td>\n",
       "      <td>31</td>\n",
       "      <td>1040.57</td>\n",
       "    </tr>\n",
       "  </tbody>\n",
       "</table>\n",
       "</div>"
      ],
      "text/plain": [
       "   CustomerID  recency  frequency  MonetaryTotal\n",
       "0     12346.0       48          1           6.24\n",
       "1     12347.0        6         31        1040.57\n",
       "2     12347.0        6         31        1040.57\n",
       "3     12347.0        6         31        1040.57\n",
       "4     12347.0        6         31        1040.57"
      ]
     },
     "execution_count": 42,
     "metadata": {},
     "output_type": "execute_result"
    }
   ],
   "source": [
    "# Create Final DataFrame With Columns for Segment Analysis\n",
    "\n",
    "df_final = rfm[['CustomerID','recency','frequency','MonetaryTotal']]\n",
    "\n",
    "df_final.head()"
   ]
  },
  {
   "cell_type": "code",
   "execution_count": 46,
   "id": "86ed1ba5",
   "metadata": {},
   "outputs": [
    {
     "name": "stdout",
     "output_type": "stream",
     "text": [
      "recency: \n"
     ]
    },
    {
     "data": {
      "image/png": "[encoded data removed]",
      "text/plain": [
       "<Figure size 640x480 with 1 Axes>"
      ]
     },
     "metadata": {},
     "output_type": "display_data"
    },
    {
     "name": "stdout",
     "output_type": "stream",
     "text": [
      "frequency: \n"
     ]
    },
    {
     "data": {
      "image/png": "[encoded data removed]",
      "text/plain": [
       "<Figure size 640x480 with 1 Axes>"
      ]
     },
     "metadata": {},
     "output_type": "display_data"
    },
    {
     "name": "stdout",
     "output_type": "stream",
     "text": [
      "MonetaryTotal: \n"
     ]
    },
    {
     "data": {
      "image/png": "[encoded data removed]",
      "text/plain": [
       "<Figure size 640x480 with 1 Axes>"
      ]
     },
     "metadata": {},
     "output_type": "display_data"
    }
   ],
   "source": [
    "# Check for Outliers\n",
    "\n",
    "list1 = ['recency','frequency','MonetaryTotal']\n",
    "\n",
    "for i in list1:\n",
    "    print(str(i)+': ')\n",
    "    ax = sns.boxplot(x=df_final[str(i)])\n",
    "    plt.show()"
   ]
  },
  {
   "cell_type": "code",
   "execution_count": 48,
   "id": "14d02873",
   "metadata": {},
   "outputs": [
    {
     "data": {
      "text/html": [
       "<div>\n",
       "<style scoped>\n",
       "    .dataframe tbody tr th:only-of-type {\n",
       "        vertical-align: middle;\n",
       "    }\n",
       "\n",
       "    .dataframe tbody tr th {\n",
       "        vertical-align: top;\n",
       "    }\n",
       "\n",
       "    .dataframe thead th {\n",
       "        text-align: right;\n",
       "    }\n",
       "</style>\n",
       "<table border=\"1\" class=\"dataframe\">\n",
       "  <thead>\n",
       "    <tr style=\"text-align: right;\">\n",
       "      <th></th>\n",
       "      <th>CustomerID</th>\n",
       "      <th>recency</th>\n",
       "      <th>frequency</th>\n",
       "      <th>MonetaryTotal</th>\n",
       "    </tr>\n",
       "  </thead>\n",
       "  <tbody>\n",
       "    <tr>\n",
       "      <th>0</th>\n",
       "      <td>12346.0</td>\n",
       "      <td>48</td>\n",
       "      <td>1</td>\n",
       "      <td>6.24</td>\n",
       "    </tr>\n",
       "    <tr>\n",
       "      <th>1</th>\n",
       "      <td>12347.0</td>\n",
       "      <td>6</td>\n",
       "      <td>31</td>\n",
       "      <td>1040.57</td>\n",
       "    </tr>\n",
       "    <tr>\n",
       "      <th>2</th>\n",
       "      <td>12347.0</td>\n",
       "      <td>6</td>\n",
       "      <td>31</td>\n",
       "      <td>1040.57</td>\n",
       "    </tr>\n",
       "    <tr>\n",
       "      <th>3</th>\n",
       "      <td>12347.0</td>\n",
       "      <td>6</td>\n",
       "      <td>31</td>\n",
       "      <td>1040.57</td>\n",
       "    </tr>\n",
       "    <tr>\n",
       "      <th>4</th>\n",
       "      <td>12347.0</td>\n",
       "      <td>6</td>\n",
       "      <td>31</td>\n",
       "      <td>1040.57</td>\n",
       "    </tr>\n",
       "  </tbody>\n",
       "</table>\n",
       "</div>"
      ],
      "text/plain": [
       "   CustomerID  recency  frequency  MonetaryTotal\n",
       "0     12346.0       48          1           6.24\n",
       "1     12347.0        6         31        1040.57\n",
       "2     12347.0        6         31        1040.57\n",
       "3     12347.0        6         31        1040.57\n",
       "4     12347.0        6         31        1040.57"
      ]
     },
     "execution_count": 48,
     "metadata": {},
     "output_type": "execute_result"
    }
   ],
   "source": [
    "# Removing Every Entry With a Z-Score >= 3\n",
    "\n",
    "df_no_outlier = df_final[['CustomerID','recency','frequency','MonetaryTotal']]\n",
    "z_scores = stats.zscore(df_no_outlier)\n",
    "abs_z_scores = np.abs(z_scores)\n",
    "filtered_scores = (abs_z_scores < 3).all(axis=1)\n",
    "\n",
    "# Create New Dataframe with Filtered Entries\n",
    "df_no_outlier = df_no_outlier[filtered_scores]\n",
    "\n",
    "df_no_outlier.head()"
   ]
  },
  {
   "cell_type": "code",
   "execution_count": 51,
   "id": "44ea36eb",
   "metadata": {},
   "outputs": [
    {
     "data": {
      "text/html": [
       "<div>\n",
       "<style scoped>\n",
       "    .dataframe tbody tr th:only-of-type {\n",
       "        vertical-align: middle;\n",
       "    }\n",
       "\n",
       "    .dataframe tbody tr th {\n",
       "        vertical-align: top;\n",
       "    }\n",
       "\n",
       "    .dataframe thead th {\n",
       "        text-align: right;\n",
       "    }\n",
       "</style>\n",
       "<table border=\"1\" class=\"dataframe\">\n",
       "  <thead>\n",
       "    <tr style=\"text-align: right;\">\n",
       "      <th></th>\n",
       "      <th>recency</th>\n",
       "      <th>frequency</th>\n",
       "      <th>MonetaryTotal</th>\n",
       "    </tr>\n",
       "  </thead>\n",
       "  <tbody>\n",
       "    <tr>\n",
       "      <th>0</th>\n",
       "      <td>-0.841005</td>\n",
       "      <td>-0.990928</td>\n",
       "      <td>-0.385800</td>\n",
       "    </tr>\n",
       "    <tr>\n",
       "      <th>1</th>\n",
       "      <td>-1.195943</td>\n",
       "      <td>0.382484</td>\n",
       "      <td>0.359386</td>\n",
       "    </tr>\n",
       "    <tr>\n",
       "      <th>2</th>\n",
       "      <td>-1.119885</td>\n",
       "      <td>-0.258442</td>\n",
       "      <td>-0.046812</td>\n",
       "    </tr>\n",
       "    <tr>\n",
       "      <th>3</th>\n",
       "      <td>1.753424</td>\n",
       "      <td>2.305261</td>\n",
       "      <td>2.203408</td>\n",
       "    </tr>\n",
       "    <tr>\n",
       "      <th>4</th>\n",
       "      <td>-0.714241</td>\n",
       "      <td>-0.258442</td>\n",
       "      <td>-0.240586</td>\n",
       "    </tr>\n",
       "  </tbody>\n",
       "</table>\n",
       "</div>"
      ],
      "text/plain": [
       "    recency  frequency  MonetaryTotal\n",
       "0 -0.841005  -0.990928      -0.385800\n",
       "1 -1.195943   0.382484       0.359386\n",
       "2 -1.119885  -0.258442      -0.046812\n",
       "3  1.753424   2.305261       2.203408\n",
       "4 -0.714241  -0.258442      -0.240586"
      ]
     },
     "execution_count": 51,
     "metadata": {},
     "output_type": "execute_result"
    }
   ],
   "source": [
    "# Standardize Data for Analysis\n",
    "\n",
    "df_no_outlier = df_no_outlier.drop_duplicates()\n",
    "col_names = ['recency', 'frequency', 'MonetaryTotal']\n",
    "features = df_no_outlier[col_names]\n",
    "scaler = StandardScaler().fit(features.values)\n",
    "features = scaler.transform(features.values)\n",
    "# Create Scaled Dataframe\n",
    "scaled_features = pd.DataFrame(features, columns=col_names)\n",
    "\n",
    "scaled_features.head()"
   ]
  },
  {
   "cell_type": "code",
   "execution_count": 53,
   "id": "a282e280",
   "metadata": {},
   "outputs": [
    {
     "name": "stderr",
     "output_type": "stream",
     "text": [
      "C:\\Users\\simon\\anaconda3\\envs\\environment1\\Lib\\site-packages\\sklearn\\cluster\\_kmeans.py:870: FutureWarning: The default value of `n_init` will change from 10 to 'auto' in 1.4. Set the value of `n_init` explicitly to suppress the warning\n",
      "  warnings.warn(\n",
      "C:\\Users\\simon\\anaconda3\\envs\\environment1\\Lib\\site-packages\\sklearn\\cluster\\_kmeans.py:870: FutureWarning: The default value of `n_init` will change from 10 to 'auto' in 1.4. Set the value of `n_init` explicitly to suppress the warning\n",
      "  warnings.warn(\n",
      "C:\\Users\\simon\\anaconda3\\envs\\environment1\\Lib\\site-packages\\sklearn\\cluster\\_kmeans.py:870: FutureWarning: The default value of `n_init` will change from 10 to 'auto' in 1.4. Set the value of `n_init` explicitly to suppress the warning\n",
      "  warnings.warn(\n",
      "C:\\Users\\simon\\anaconda3\\envs\\environment1\\Lib\\site-packages\\sklearn\\cluster\\_kmeans.py:870: FutureWarning: The default value of `n_init` will change from 10 to 'auto' in 1.4. Set the value of `n_init` explicitly to suppress the warning\n",
      "  warnings.warn(\n",
      "C:\\Users\\simon\\anaconda3\\envs\\environment1\\Lib\\site-packages\\sklearn\\cluster\\_kmeans.py:870: FutureWarning: The default value of `n_init` will change from 10 to 'auto' in 1.4. Set the value of `n_init` explicitly to suppress the warning\n",
      "  warnings.warn(\n",
      "C:\\Users\\simon\\anaconda3\\envs\\environment1\\Lib\\site-packages\\sklearn\\cluster\\_kmeans.py:870: FutureWarning: The default value of `n_init` will change from 10 to 'auto' in 1.4. Set the value of `n_init` explicitly to suppress the warning\n",
      "  warnings.warn(\n",
      "C:\\Users\\simon\\anaconda3\\envs\\environment1\\Lib\\site-packages\\sklearn\\cluster\\_kmeans.py:870: FutureWarning: The default value of `n_init` will change from 10 to 'auto' in 1.4. Set the value of `n_init` explicitly to suppress the warning\n",
      "  warnings.warn(\n",
      "C:\\Users\\simon\\anaconda3\\envs\\environment1\\Lib\\site-packages\\sklearn\\cluster\\_kmeans.py:870: FutureWarning: The default value of `n_init` will change from 10 to 'auto' in 1.4. Set the value of `n_init` explicitly to suppress the warning\n",
      "  warnings.warn(\n",
      "C:\\Users\\simon\\anaconda3\\envs\\environment1\\Lib\\site-packages\\sklearn\\cluster\\_kmeans.py:870: FutureWarning: The default value of `n_init` will change from 10 to 'auto' in 1.4. Set the value of `n_init` explicitly to suppress the warning\n",
      "  warnings.warn(\n"
     ]
    },
    {
     "data": {
      "text/plain": [
       "Text(0, 0.5, 'Inertia')"
      ]
     },
     "execution_count": 53,
     "metadata": {},
     "output_type": "execute_result"
    },
    {
     "data": {
      "image/png": "[encoded data removed]",
      "text/plain": [
       "<Figure size 1200x600 with 1 Axes>"
      ]
     },
     "metadata": {},
     "output_type": "display_data"
    }
   ],
   "source": [
    "# Create Graph to Determine Number of Clusters\n",
    "\n",
    "SSE = []\n",
    "\n",
    "for cluster in range(1,10):\n",
    "    kmeans = KMeans(n_clusters=cluster, init='k-means++')\n",
    "    kmeans.fit(scaled_features)\n",
    "    SSE.append(kmeans.inertia_)\n",
    "#Converting Results to a Dataframe for Visualization\n",
    "cluster_data = pd.DataFrame({'Cluster':range(1,10), 'SSE':SSE})\n",
    "plt.figure(figsize=(12,6))\n",
    "plt.plot(cluster_data['Cluster'], cluster_data['SSE'], marker='o')\n",
    "plt.xlabel('Number of clusters')\n",
    "plt.ylabel('Inertia')"
   ]
  },
  {
   "cell_type": "code",
   "execution_count": 58,
   "id": "37a79dee",
   "metadata": {},
   "outputs": [
    {
     "name": "stderr",
     "output_type": "stream",
     "text": [
      "C:\\Users\\simon\\anaconda3\\envs\\environment1\\Lib\\site-packages\\sklearn\\cluster\\_kmeans.py:870: FutureWarning: The default value of `n_init` will change from 10 to 'auto' in 1.4. Set the value of `n_init` explicitly to suppress the warning\n",
      "  warnings.warn(\n"
     ]
    },
    {
     "name": "stdout",
     "output_type": "stream",
     "text": [
      "0.44541404865243306\n"
     ]
    }
   ],
   "source": [
    "# After Analyzing the Graph Using the Elbow Method, the Optimal Number of Clusters is 4\n",
    "\n",
    "# Create Model With 4 Clusters\n",
    "kmeans= KMeans(n_clusters=4, init='k-means++')\n",
    "kmeans.fit(scaled_features)\n",
    "\n",
    "# Use silhouette_score to Evaluate Performance\n",
    "print(silhouette_score(scaled_features, kmeans.labels_, metric='euclidean'))"
   ]
  },
  {
   "cell_type": "code",
   "execution_count": 59,
   "id": "3f964277",
   "metadata": {},
   "outputs": [
    {
     "data": {
      "text/html": [
       "<div>\n",
       "<style scoped>\n",
       "    .dataframe tbody tr th:only-of-type {\n",
       "        vertical-align: middle;\n",
       "    }\n",
       "\n",
       "    .dataframe tbody tr th {\n",
       "        vertical-align: top;\n",
       "    }\n",
       "\n",
       "    .dataframe thead th {\n",
       "        text-align: right;\n",
       "    }\n",
       "</style>\n",
       "<table border=\"1\" class=\"dataframe\">\n",
       "  <thead>\n",
       "    <tr style=\"text-align: right;\">\n",
       "      <th></th>\n",
       "      <th>CustomerID</th>\n",
       "      <th>recency</th>\n",
       "      <th>frequency</th>\n",
       "      <th>MonetaryTotal</th>\n",
       "      <th>Cluster</th>\n",
       "    </tr>\n",
       "  </thead>\n",
       "  <tbody>\n",
       "    <tr>\n",
       "      <th>0</th>\n",
       "      <td>12346.0</td>\n",
       "      <td>48</td>\n",
       "      <td>1</td>\n",
       "      <td>6.24</td>\n",
       "      <td>0</td>\n",
       "    </tr>\n",
       "    <tr>\n",
       "      <th>1</th>\n",
       "      <td>12347.0</td>\n",
       "      <td>6</td>\n",
       "      <td>31</td>\n",
       "      <td>1040.57</td>\n",
       "      <td>0</td>\n",
       "    </tr>\n",
       "    <tr>\n",
       "      <th>32</th>\n",
       "      <td>12348.0</td>\n",
       "      <td>15</td>\n",
       "      <td>17</td>\n",
       "      <td>476.76</td>\n",
       "      <td>0</td>\n",
       "    </tr>\n",
       "    <tr>\n",
       "      <th>49</th>\n",
       "      <td>12349.0</td>\n",
       "      <td>355</td>\n",
       "      <td>73</td>\n",
       "      <td>3600.10</td>\n",
       "      <td>2</td>\n",
       "    </tr>\n",
       "    <tr>\n",
       "      <th>122</th>\n",
       "      <td>12350.0</td>\n",
       "      <td>63</td>\n",
       "      <td>17</td>\n",
       "      <td>207.80</td>\n",
       "      <td>0</td>\n",
       "    </tr>\n",
       "  </tbody>\n",
       "</table>\n",
       "</div>"
      ],
      "text/plain": [
       "     CustomerID  recency  frequency  MonetaryTotal  Cluster\n",
       "0       12346.0       48          1           6.24        0\n",
       "1       12347.0        6         31        1040.57        0\n",
       "32      12348.0       15         17         476.76        0\n",
       "49      12349.0      355         73        3600.10        2\n",
       "122     12350.0       63         17         207.80        0"
      ]
     },
     "execution_count": 59,
     "metadata": {},
     "output_type": "execute_result"
    }
   ],
   "source": [
    "# Assign Clusters to Customers in the Dataset\n",
    "\n",
    "pred = kmeans.predict(scaled_features)\n",
    "df_pred = pd.DataFrame(df_no_outlier)\n",
    "df_pred['Cluster'] = pred\n",
    "\n",
    "df_pred.head()"
   ]
  },
  {
   "cell_type": "code",
   "execution_count": 61,
   "id": "ca312374",
   "metadata": {
    "scrolled": true
   },
   "outputs": [
    {
     "data": {
      "image/png": "[encoded data removed]",
      "text/plain": [
       "<Figure size 640x480 with 1 Axes>"
      ]
     },
     "metadata": {},
     "output_type": "display_data"
    },
    {
     "data": {
      "image/png": "[encoded data removed]",
      "text/plain": [
       "<Figure size 640x480 with 1 Axes>"
      ]
     },
     "metadata": {},
     "output_type": "display_data"
    },
    {
     "data": {
      "image/png": "[encoded data removed]",
      "text/plain": [
       "<Figure size 640x480 with 1 Axes>"
      ]
     },
     "metadata": {},
     "output_type": "display_data"
    }
   ],
   "source": [
    "# Visualize the Four Customer Segments\n",
    "df_visual = df_pred.groupby(['Cluster'], as_index=False).mean()\n",
    "for i in list1:\n",
    "    sns.barplot(x='Cluster',y=str(i),data=df_visual)\n",
    "    plt.show()"
   ]
  },
  {
   "cell_type": "code",
   "execution_count": 62,
   "id": "665d0704",
   "metadata": {},
   "outputs": [
    {
     "data": {
      "text/plain": [
       "Cluster\n",
       "0    2353\n",
       "1    1407\n",
       "2     523\n",
       "3      75\n",
       "Name: count, dtype: int64"
      ]
     },
     "execution_count": 62,
     "metadata": {},
     "output_type": "execute_result"
    }
   ],
   "source": [
    "# Number of Customers in Each Cluster\n",
    "df_pred['Cluster'].value_counts()"
   ]
  },
  {
   "cell_type": "code",
   "execution_count": 64,
   "id": "231d41a6",
   "metadata": {},
   "outputs": [
    {
     "name": "stdout",
     "output_type": "stream",
     "text": [
      "Cluster\n",
      "0    653197.35\n",
      "1    441239.49\n",
      "2    590702.53\n",
      "3    675748.00\n",
      "Name: MonetaryTotal, dtype: float64\n"
     ]
    }
   ],
   "source": [
    "# Calculate Money Earned From Each Cluster\n",
    "\n",
    "cluster_sums = df_pred.groupby('Cluster')['MonetaryTotal'].sum()\n",
    "print(cluster_sums)"
   ]
  },
  {
   "cell_type": "code",
   "execution_count": 65,
   "id": "9dfaa697",
   "metadata": {},
   "outputs": [
    {
     "name": "stdout",
     "output_type": "stream",
     "text": [
      "Cluster\n",
      "0     277.601934\n",
      "1     313.603049\n",
      "2    1129.450344\n",
      "3    9009.973333\n",
      "Name: MonetaryTotal, dtype: float64\n"
     ]
    }
   ],
   "source": [
    "# Calculate the Avergare Amount Spent per Cluster\n",
    "\n",
    "cluster_averages = df_pred.groupby('Cluster')['MonetaryTotal'].mean()\n",
    "print(cluster_averages)"
   ]
  },
  {
   "cell_type": "code",
   "execution_count": 67,
   "id": "5f6a9883",
   "metadata": {},
   "outputs": [
    {
     "name": "stdout",
     "output_type": "stream",
     "text": [
      "Cluster\n",
      "0    14.653634\n",
      "1    18.142857\n",
      "2    66.462715\n",
      "3    52.280000\n",
      "Name: frequency, dtype: float64\n"
     ]
    }
   ],
   "source": [
    "# Calculate the Average Frequency per Cluster\n",
    "\n",
    "cluster_averages_frequency = df_pred.groupby('Cluster')['frequency'].mean()\n",
    "print(cluster_averages_frequency)"
   ]
  },
  {
   "cell_type": "code",
   "execution_count": 68,
   "id": "420ed9bc",
   "metadata": {},
   "outputs": [
    {
     "name": "stdout",
     "output_type": "stream",
     "text": [
      "Cluster\n",
      "0     64.318742\n",
      "1    280.361763\n",
      "2    168.120459\n",
      "3    121.853333\n",
      "Name: recency, dtype: float64\n"
     ]
    }
   ],
   "source": [
    "# Calculate the Average Recency per Cluster\n",
    "\n",
    "cluster_averages_recency = df_pred.groupby('Cluster')['recency'].mean()\n",
    "print(cluster_averages_recency)"
   ]
  },
  {
   "cell_type": "markdown",
   "id": "ef05fbb3",
   "metadata": {},
   "source": [
    "## Cluster 0 (Blue) \n",
    "Customers in Cluster 0 have low recency, frequency, and monetary total scores.\n",
    "These customers make occasional purchases and are least likely to return to our store.\n",
    "These customers mkae up the second largest 'MonetaryTotal' for pur company at $653197.35.\n",
    "The goal for this cluster is to turn more customers into repeat customers and increase their 'frequency' score"
   ]
  },
  {
   "cell_type": "markdown",
   "id": "4b2d6246",
   "metadata": {},
   "source": [
    "## Cluster 1 (Orange)\n",
    "Customers in Cluster 1 have high recency, low frequency, and low monetary total scores.\n",
    "Customers with scores like these may experience a low rate of returning to products.\n",
    "This customer segment can be interesting to target as similiar target groups for other brands demonstrate a high level of engagement with brands, but may have different spending habits or preferences than other groups.\n",
    "Second largest cluster with 1407 unique customerID's.\n",
    "The goal for this cluster is to encourage the customers to stay engaged with our brand and make more repeat customers."
   ]
  },
  {
   "cell_type": "markdown",
   "id": "3d0a73dc",
   "metadata": {},
   "source": [
    "## Cluster 2 (Green)\n",
    "Customers in Cluster 2 have the highest frequency score of any cluster\n",
    "These customers love our brand, and routinely return to by our products.\n",
    "This is the second smallest cluster, but this cluster has the second highest average spent at $1129.45.\n",
    "The goal is to increase the amount of customers in this cluster.\n",
    "The goal for this cluster is to encourage customers to spend more per purchase."
   ]
  },
  {
   "cell_type": "markdown",
   "id": "1cb7acde",
   "metadata": {},
   "source": [
    "## Cluster 3 (Red)\n",
    "Customers in Cluster 3 are responsible for the largest monetary total at $675748.00. \n",
    "While there are only 75 customers in this cluster, they spend an average of $9009.97 per purchase.\n",
    "They are not the most frequent or most recent, but when they spend they spend big.\n",
    "The goal for the customers in this cluster is to encourage them to keep doing repeat business with the company. "
   ]
  }
 ],
 "metadata": {
  "kernelspec": {
   "display_name": "Python 3 (ipykernel)",
   "language": "python",
   "name": "python3"
  },
  "language_info": {
   "codemirror_mode": {
    "name": "ipython",
    "version": 3
   },
   "file_extension": ".py",
   "mimetype": "text/x-python",
   "name": "python",
   "nbconvert_exporter": "python",
   "pygments_lexer": "ipython3",
   "version": "3.11.3"
  }
 },
 "nbformat": 4,
 "nbformat_minor": 5
}
